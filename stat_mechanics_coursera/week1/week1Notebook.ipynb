{
 "cells": [
  {
   "cell_type": "markdown",
   "metadata": {},
   "source": [
    "QUIZ TEST"
   ]
  },
  {
   "cell_type": "code",
   "execution_count": 5,
   "metadata": {},
   "outputs": [],
   "source": [
    "import random\n",
    "N = 20\n",
    "position = 0\n",
    "left = 0\n",
    "right = 0\n",
    "no_val =0\n",
    "for t in range(100000):\n",
    "    if random.uniform(0.0, 1.0) < 0.5:\n",
    "        position = (position + 1) % N\n",
    "        right +=1 \n",
    "        \n",
    "    elif random.uniform(0.0, 1.0) > 0.5:\n",
    "        position = (position - 1) % N\n",
    "        left += 1\n",
    "    else:\n",
    "        no_val +=1\n",
    "\n"
   ]
  },
  {
   "cell_type": "code",
   "execution_count": 6,
   "metadata": {},
   "outputs": [
    {
     "data": {
      "text/plain": [
       "50177"
      ]
     },
     "execution_count": 6,
     "metadata": {},
     "output_type": "execute_result"
    }
   ],
   "source": [
    "right"
   ]
  },
  {
   "cell_type": "code",
   "execution_count": 7,
   "metadata": {},
   "outputs": [
    {
     "data": {
      "text/plain": [
       "25042"
      ]
     },
     "execution_count": 7,
     "metadata": {},
     "output_type": "execute_result"
    }
   ],
   "source": [
    "left"
   ]
  },
  {
   "cell_type": "code",
   "execution_count": 8,
   "metadata": {},
   "outputs": [
    {
     "data": {
      "text/plain": [
       "24781"
      ]
     },
     "execution_count": 8,
     "metadata": {},
     "output_type": "execute_result"
    }
   ],
   "source": [
    "no_val"
   ]
  },
  {
   "cell_type": "code",
   "execution_count": 9,
   "metadata": {},
   "outputs": [],
   "source": [
    "import random\n",
    "N = 20\n",
    "position = 0\n",
    "left = 0\n",
    "right = 0\n",
    "for t in range(100000):\n",
    "    dir = random.choice([-1, 1])\n",
    "    if dir == 1:\n",
    "        right +=1 \n",
    "    else:\n",
    "        left += 1\n",
    "    #position = (position + dir) % N"
   ]
  },
  {
   "cell_type": "code",
   "execution_count": 10,
   "metadata": {},
   "outputs": [
    {
     "data": {
      "text/plain": [
       "50062"
      ]
     },
     "execution_count": 10,
     "metadata": {},
     "output_type": "execute_result"
    }
   ],
   "source": [
    "right"
   ]
  },
  {
   "cell_type": "code",
   "execution_count": 178,
   "metadata": {},
   "outputs": [
    {
     "data": {
      "text/plain": [
       "0.50049"
      ]
     },
     "execution_count": 178,
     "metadata": {},
     "output_type": "execute_result"
    }
   ],
   "source": [
    "right/100000"
   ]
  },
  {
   "cell_type": "code",
   "execution_count": 11,
   "metadata": {},
   "outputs": [
    {
     "data": {
      "text/plain": [
       "50062"
      ]
     },
     "execution_count": 11,
     "metadata": {},
     "output_type": "execute_result"
    }
   ],
   "source": [
    "right"
   ]
  },
  {
   "cell_type": "code",
   "execution_count": 21,
   "metadata": {},
   "outputs": [],
   "source": [
    "import random\n",
    "N = 20\n",
    "position = 0\n",
    "left = 0\n",
    "right = 0\n",
    "for t in range(100000):\n",
    "    if random.uniform(0.0, 1.0) < 0.5:\n",
    "        right +=1 \n",
    "        position = (position + 1) % N\n",
    "    else:\n",
    "        position = (position - 1) % N\n",
    "        left += 1"
   ]
  },
  {
   "cell_type": "code",
   "execution_count": 22,
   "metadata": {},
   "outputs": [
    {
     "data": {
      "text/plain": [
       "50049"
      ]
     },
     "execution_count": 22,
     "metadata": {},
     "output_type": "execute_result"
    }
   ],
   "source": [
    "right"
   ]
  },
  {
   "cell_type": "code",
   "execution_count": 23,
   "metadata": {},
   "outputs": [
    {
     "data": {
      "text/plain": [
       "49951"
      ]
     },
     "execution_count": 23,
     "metadata": {},
     "output_type": "execute_result"
    }
   ],
   "source": [
    "left"
   ]
  },
  {
   "cell_type": "code",
   "execution_count": 24,
   "metadata": {},
   "outputs": [
    {
     "data": {
      "text/plain": [
       "100000"
      ]
     },
     "execution_count": 24,
     "metadata": {},
     "output_type": "execute_result"
    }
   ],
   "source": [
    "right+left"
   ]
  },
  {
   "cell_type": "markdown",
   "metadata": {},
   "source": [
    "### week 1 homework "
   ]
  },
  {
   "cell_type": "code",
   "execution_count": 68,
   "metadata": {},
   "outputs": [
    {
     "data": {
      "image/png": "[encoded data removed]",
      "text/plain": [
       "<Figure size 432x288 with 1 Axes>"
      ]
     },
     "metadata": {
      "needs_background": "light"
     },
     "output_type": "display_data"
    }
   ],
   "source": [
    "%matplotlib inline  \n",
    "\n",
    "import random, math, pylab\n",
    "\n",
    "def direct_pi(N):\n",
    "    n_hits = 0\n",
    "    for i in range(N):\n",
    "        x, y = random.uniform(-1.0, 1.0), random.uniform(-1.0, 1.0)\n",
    "        if x ** 2 + y ** 2 < 1.0:\n",
    "            n_hits += 1\n",
    "    return n_hits\n",
    "\n",
    "n_runs = 500\n",
    "n_trials_list = []\n",
    "sigmasqs = []\n",
    "for poweroftwo in range(4, 13):\n",
    "    n_trials = 2 ** poweroftwo\n",
    "    sigmasq = 0.0\n",
    "    for run in range(n_runs):\n",
    "        pi_est = 4.0 * direct_pi(n_trials) / float(n_trials)\n",
    "        sigmasq += (pi_est - math.pi) ** 2\n",
    "    sigmasqs.append(math.sqrt(sigmasq/(n_runs)))\n",
    "    n_trials_list.append(n_trials)\n",
    "\n",
    "pylab.plot(n_trials_list, sigmasqs, 'o')\n",
    "pylab.xscale('log')\n",
    "pylab.yscale('log')\n",
    "pylab.xlabel('number of trials')\n",
    "pylab.ylabel('root mean square deviation')\n",
    "pylab.title('Direct sampling of pi: root mean square deviation vs. n_trials')\n",
    "pylab.savefig('direct_sampling_rms_deviation.png')\n",
    "pylab.show()"
   ]
  },
  {
   "cell_type": "code",
   "execution_count": 155,
   "metadata": {},
   "outputs": [
    {
     "data": {
      "image/png": "[encoded data removed]",
      "text/plain": [
       "<Figure size 432x288 with 1 Axes>"
      ]
     },
     "metadata": {
      "needs_background": "light"
     },
     "output_type": "display_data"
    }
   ],
   "source": [
    "%matplotlib inline  \n",
    "\n",
    "import random, math, pylab\n",
    "import numpy as np\n",
    "\n",
    "def direct_pi(N):\n",
    "    n_hits = 0\n",
    "    for i in range(N):\n",
    "        x, y = random.uniform(-1.0, 1.0), random.uniform(-1.0, 1.0)\n",
    "        if x ** 2 + y ** 2 < 1.0:\n",
    "            n_hits += 1\n",
    "    return n_hits\n",
    "\n",
    "n_runs = 500\n",
    "n_trials_list = []\n",
    "#########added variable #####\n",
    "func_trials  = []\n",
    "constant_var = 1.642\n",
    "##########################\n",
    "sigmasqs = []\n",
    "for poweroftwo in range(4, 13):\n",
    "    n_trials = 2 ** poweroftwo\n",
    "    sigmasq = 0.0\n",
    "    for run in range(n_runs):\n",
    "        pi_est = 4.0 * direct_pi(n_trials) / float(n_trials)\n",
    "        sigmasq += (pi_est - math.pi) ** 2\n",
    "    sigmasqs.append(math.sqrt(sigmasq/(n_runs)))\n",
    "    \n",
    "    ######### added function to be computed #####\n",
    "    n_trials_list.append(n_trials)\n",
    "    # 1.642 / sqrt(N_trials)\n",
    "    func_trials.append(constant_var/math.sqrt(float(n_trials)))\n",
    "    ##############################################\n",
    "    \n",
    "#pylab.plot(n_trials_list, sigmasqs, 'o', label = 'rms deviation')\n",
    "##############################################\n",
    "pylab.plot(n_trials_list, func_trials, '*', label = 'rms vs trials plot')\n",
    "##############################################\n",
    "\n",
    "\n",
    "pylab.xscale('log')\n",
    "pylab.yscale('log')\n",
    "pylab.xlabel('number of trials')\n",
    "pylab.legend(loc='upper right')\n",
    "pylab.ylabel('root mean square deviation')\n",
    "pylab.title('Direct sampling of pi plots: rms using statistical variance computation vs number of trials')\n",
    "pylab.savefig('direct_sampling_rms_stats_approach.png')\n",
    "pylab.show()"
   ]
  },
  {
   "cell_type": "code",
   "execution_count": 243,
   "metadata": {},
   "outputs": [
    {
     "data": {
      "image/png": "[encoded data removed]",
      "text/plain": [
       "<Figure size 432x288 with 1 Axes>"
      ]
     },
     "metadata": {
      "needs_background": "light"
     },
     "output_type": "display_data"
    }
   ],
   "source": [
    "%matplotlib inline  \n",
    "\n",
    "import random, math, pylab\n",
    "import numpy as np\n",
    "\n",
    "def direct_pi(N):\n",
    "    n_hits = 0\n",
    "    for i in range(N):\n",
    "        x, y = random.uniform(-1.0, 1.0), random.uniform(-1.0, 1.0)\n",
    "        if x ** 2 + y ** 2 < 1.0:\n",
    "            n_hits += 1\n",
    "    return n_hits\n",
    "\n",
    "n_runs = 100\n",
    "n_trials_list = []\n",
    "#########added variable #####\n",
    "func_trials  = []\n",
    "constant_var = 1.642\n",
    "##########################\n",
    "sigmasqs = []\n",
    "for poweroftwo in range(4, 500):\n",
    "    n_trials = 100 # \n",
    "    sigmasq = 0.0\n",
    "    for run in range(n_runs):\n",
    "        pi_est = 4.0 * direct_pi(n_trials) / float(n_trials)\n",
    "        sigmasq += (pi_est - math.pi) ** 2\n",
    "    sigmasqs.append(math.sqrt(sigmasq/(n_runs))) \n",
    "    ######### added function to be computed #####\n",
    "    n_trials_list.append(n_trials)\n",
    "    # 1.642 / sqrt(N_trials)\n",
    "    func_trials.append(constant_var/math.sqrt(float(n_trials)))\n",
    "    ##############################################\n",
    "    \n",
    "pylab.plot(n_trials_list, sigmasqs, 'o', label = 'rms deviation')\n",
    "##############################################\n",
    "pylab.plot(n_trials_list, func_trials, '*', label = 'rms vs trials plot')\n",
    "##############################################\n",
    "\n",
    "\n",
    "#pylab.xscale('log')\n",
    "#pylab.yscale('log')\n",
    "pylab.xlabel('number of trials')\n",
    "pylab.legend(loc='upper right')\n",
    "pylab.ylabel('root mean square deviation')\n",
    "pylab.title('Direct sampling of pi plots: rms using statistical variance computation vs number of trials')\n",
    "pylab.savefig('direct_sampling_rms_stats_approach.png')\n",
    "pylab.show()"
   ]
  },
  {
   "cell_type": "code",
   "execution_count": 244,
   "metadata": {},
   "outputs": [
    {
     "data": {
      "text/plain": [
       "0.16335487714000013"
      ]
     },
     "execution_count": 244,
     "metadata": {},
     "output_type": "execute_result"
    }
   ],
   "source": [
    "np.mean(sigmasqs)"
   ]
  },
  {
   "cell_type": "code",
   "execution_count": 245,
   "metadata": {},
   "outputs": [
    {
     "data": {
      "text/plain": [
       "0.16419999999999998"
      ]
     },
     "execution_count": 245,
     "metadata": {},
     "output_type": "execute_result"
    }
   ],
   "source": [
    "func_trials[1]"
   ]
  },
  {
   "cell_type": "code",
   "execution_count": 240,
   "metadata": {},
   "outputs": [
    {
     "data": {
      "text/plain": [
       "50"
      ]
     },
     "execution_count": 240,
     "metadata": {},
     "output_type": "execute_result"
    }
   ],
   "source": [
    "n_trials"
   ]
  },
  {
   "cell_type": "markdown",
   "metadata": {},
   "source": [
    "        Section B"
   ]
  },
  {
   "cell_type": "code",
   "execution_count": 472,
   "metadata": {},
   "outputs": [
    {
     "data": {
      "image/png": "[encoded data removed]",
      "text/plain": [
       "<Figure size 432x288 with 1 Axes>"
      ]
     },
     "metadata": {
      "needs_background": "light"
     },
     "output_type": "display_data"
    }
   ],
   "source": [
    "import random, math, pylab\n",
    "\n",
    "def markov_pi(N, delta):\n",
    "    x, y = 1.0, 1.0\n",
    "    n_hits = 0\n",
    "    for i in range(N):\n",
    "        del_x, del_y = random.uniform(-delta, delta), random.uniform(-delta, delta)\n",
    "        if abs(x + del_x) < 1.0 and abs(y + del_y) < 1.0:\n",
    "            x, y = x + del_x, y + del_y\n",
    "        if x**2 + y**2 < 1.0: n_hits += 1\n",
    "    return n_hits\n",
    "\n",
    "n_runs = 500\n",
    "for delta in [0.062, 0.125, 0.25, 0.5, 1.0, 2.0, 4.0]:\n",
    "    n_trials_list = []\n",
    "    sigmas = []\n",
    "    for poweroftwo in range(4, 13):\n",
    "        n_trials = 2 ** poweroftwo\n",
    "        sigma = 0.0\n",
    "        for run in range(n_runs):\n",
    "            pi_est = 4.0 * markov_pi(n_trials, delta) / float(n_trials)\n",
    "            sigma += (pi_est - math.pi) ** 2\n",
    "        sigmas.append(math.sqrt(sigma/(n_runs)))\n",
    "        n_trials_list.append(n_trials)\n",
    "    pylab.plot(n_trials_list, sigmas, 'o', ms = 8, label = '$\\delta = $' + str(delta))\n",
    "\n",
    "pylab.xscale('log')\n",
    "pylab.yscale('log')\n",
    "pylab.xlabel('number of trials')\n",
    "pylab.ylabel('root mean square deviation')\n",
    "pylab.plot([10,10000],[1.642 / math.sqrt(10.0), 1.642 / math.sqrt(10000.0)], label = 'direct')\n",
    "pylab.title('Markov-chain sampling of pi: root mean square deviation vs. n_trials')\n",
    "pylab.legend(loc='upper right')\n",
    "pylab.savefig('markov_sampling_rms_deviation.png')\n",
    "pylab.show()"
   ]
  },
  {
   "cell_type": "code",
   "execution_count": 521,
   "metadata": {},
   "outputs": [
    {
     "name": "stdout",
     "output_type": "stream",
     "text": [
      "3105\n",
      "0.758056640625\n"
     ]
    }
   ],
   "source": [
    "import random\n",
    "\n",
    "x, y = 0., 0.\n",
    "delta = 4.\n",
    "n_trials = 2**12\n",
    "n_hits = 0\n",
    "for i in range(n_trials):\n",
    "    del_x, del_y = random.uniform(-delta, delta), random.uniform(-delta, delta)\n",
    "    \n",
    "    if abs(x + del_x) < 1.0 and abs(y + del_y) < 1.0:\n",
    "        x, y = x + del_x, y + del_y\n",
    "    if x**2 + y**2 < 1.0: n_hits += 1\n",
    "print (n_hits)\n",
    "print (n_hits/float(n_trials))\n"
   ]
  },
  {
   "cell_type": "code",
   "execution_count": 469,
   "metadata": {},
   "outputs": [
    {
     "data": {
      "text/plain": [
       "4096"
      ]
     },
     "execution_count": 469,
     "metadata": {},
     "output_type": "execute_result"
    }
   ],
   "source": [
    "n_trials"
   ]
  },
  {
   "cell_type": "code",
   "execution_count": 27,
   "metadata": {},
   "outputs": [],
   "source": [
    "import random\n",
    "x, y = 1, 1\n",
    "\n",
    "n_trials = 2**12\n",
    "\n",
    "count =0\n",
    "acceptance = []\n",
    "for delta in [0.062, 0.125, 0.25, 0.5, 1.0, 2.0, 4.0]:\n",
    "    \n",
    "    summer =[]\n",
    "    misses = []\n",
    "    for poweroftwo in range(100):\n",
    "        n_hits = 0\n",
    "        miss = 0\n",
    "        for i in range(n_trials):\n",
    "            del_x, del_y = random.uniform(-delta, delta), random.uniform(-delta, delta)\n",
    "            if abs(x + del_x) < 1.0 and abs(y + del_y) < 1.0:\n",
    "                x, y = x + del_x, y + del_y\n",
    "                n_hits += 1; \n",
    "            else: miss  += 1; \n",
    "            condition = x**2 + y**2\n",
    "            if condition < 1.0:\n",
    "                pass #n_hits += 1; \n",
    "            else: pass #miss  += 1; \n",
    "        #print(n_hits)\n",
    "        summer.append(n_hits)\n",
    "        misses.append(miss) \n",
    "\n",
    "          \n",
    "    n_hits = np.mean(summer)\n",
    "    miss = np.mean(miss)\n",
    "    total = n_trials - n_hits\n",
    "    \n",
    "    accept = n_hits/float(n_trials)\n",
    "    #acceptance.append((delta,accept,1-accept,n_trials,n_hits ,miss))\n",
    "    acceptance.append((delta,accept))\n"
   ]
  },
  {
   "cell_type": "code",
   "execution_count": 28,
   "metadata": {},
   "outputs": [
    {
     "data": {
      "text/plain": [
       "[(0.062, 0.96873291015625),\n",
       " (0.125, 0.9383642578125),\n",
       " (0.25, 0.87905029296875),\n",
       " (0.5, 0.7663427734375),\n",
       " (1.0, 0.56212890625),\n",
       " (2.0, 0.2495849609375),\n",
       " (4.0, 0.06181396484375)]"
      ]
     },
     "execution_count": 28,
     "metadata": {},
     "output_type": "execute_result"
    }
   ],
   "source": [
    "acceptance"
   ]
  },
  {
   "cell_type": "markdown",
   "metadata": {},
   "source": [
    "#  The solution below is wrong\n"
   ]
  },
  {
   "cell_type": "code",
   "execution_count": 23,
   "metadata": {},
   "outputs": [],
   "source": [
    "import random\n",
    "import numpy as np\n",
    "x, y = 1, 1\n",
    "\n",
    "n_trials = 2**12\n",
    "\n",
    "count =0\n",
    "acceptance = []\n",
    "for delta in [0.062, 0.125, 0.25, 0.5, 1.0, 2.0, 4.0]:\n",
    "    \n",
    "    summer =[]\n",
    "    misses = []\n",
    "    for poweroftwo in range(100):\n",
    "        n_hits = 0\n",
    "        miss = 0\n",
    "        for i in range(n_trials):\n",
    "            del_x, del_y = random.uniform(-delta, delta), random.uniform(-delta, delta)\n",
    "            if abs(x + del_x) < 1.0 and abs(y + del_y) < 1.0:\n",
    "                x, y = x + del_x, y + del_y\n",
    "            else: pass\n",
    "            condition = x**2 + y**2\n",
    "            if i > 1000:\n",
    "                if condition < 1.0:\n",
    "                    n_hits += 1; \n",
    "                else: miss  += 1; \n",
    "        #print(n_hits)\n",
    "        summer.append(n_hits)\n",
    "        misses.append(miss) \n",
    "\n",
    "          \n",
    "    n_hits = np.mean(summer)\n",
    "    miss = np.mean(miss)\n",
    "    total = n_trials - n_hits\n",
    "    \n",
    "    accept = n_hits/float(n_trials)\n",
    "    #acceptance.append((delta,accept,1-accept,n_trials,n_hits ,miss))\n",
    "    acceptance.append((delta,accept))\n"
   ]
  },
  {
   "cell_type": "code",
   "execution_count": 24,
   "metadata": {},
   "outputs": [
    {
     "data": {
      "text/plain": [
       "[(0.062, 0.58075927734375),\n",
       " (0.125, 0.5946240234375),\n",
       " (0.25, 0.5924462890625),\n",
       " (0.5, 0.59360107421875),\n",
       " (1.0, 0.593583984375),\n",
       " (2.0, 0.59778564453125),\n",
       " (4.0, 0.5945361328125)]"
      ]
     },
     "execution_count": 24,
     "metadata": {},
     "output_type": "execute_result"
    }
   ],
   "source": [
    "acceptance"
   ]
  },
  {
   "cell_type": "code",
   "execution_count": 542,
   "metadata": {},
   "outputs": [
    {
     "name": "stdout",
     "output_type": "stream",
     "text": [
      "3.14414 1.6404115792622438\n"
     ]
    }
   ],
   "source": [
    "import random, math\n",
    "n_trials = 400000\n",
    "n_hits = 0\n",
    "var = 0.0\n",
    "for iter in range(n_trials):\n",
    "    x, y = random.uniform(-1.0, 1.0), random.uniform(-1.0, 1.0)\n",
    "    Obs = 0.0\n",
    "    if x**2 + y**2 < 1.0:\n",
    "        n_hits += 1\n",
    "        Obs = 4.0\n",
    "    var += (Obs - math.pi)**2\n",
    "print (4.0 * n_hits / float(n_trials), math.sqrt(var / n_trials))"
   ]
  },
  {
   "cell_type": "code",
   "execution_count": 587,
   "metadata": {},
   "outputs": [
    {
     "name": "stdout",
     "output_type": "stream",
     "text": [
      "3.14185 1.6420044389404067\n"
     ]
    }
   ],
   "source": [
    "import random, math\n",
    "import numpy as np\n",
    "n_trials = 400000\n",
    "n_hits = 0\n",
    "var = 0.0\n",
    "\n",
    "obs_squares_list = [] # observation square\n",
    "obs_list = [] # observation\n",
    "\n",
    "for delta in [0.062, 0.125, 0.25, 0.5, 1.0, 2.0, 4.0]:\n",
    "    \n",
    "    for iter in range(n_trials):\n",
    "        x, y = random.uniform(-1.0, 1.0), random.uniform(-1.0, 1.0)\n",
    "        Obs = 0.0\n",
    "        obs_sq =0.\n",
    "\n",
    "        if x**2 + y**2 < 1.0:\n",
    "            n_hits += 1\n",
    "            Obs = 4.0  # observation\n",
    "            obs_sq = 16.0 # observation squared\n",
    "        else:\n",
    "            Obs = 0. # obs can be 4 ot 0. Here it is set to zero\n",
    "            obs_sq=0. #  obs_sq can be 4 ot 0. Here it is set to zero\n",
    "        obs_squares_list.append(obs_sq) # collect the obs\n",
    "        obs_list.append(Obs)\n",
    "var = np.mean(obs_squares_list) - np.mean(obs_list)**2 # compute variance from mean(obs^2)- mean(obs)^2\n",
    "print (4.0 * n_hits / float(n_trials), math.sqrt(var )) # print out results"
   ]
  },
  {
   "cell_type": "code",
   "execution_count": null,
   "metadata": {},
   "outputs": [],
   "source": []
  },
  {
   "cell_type": "code",
   "execution_count": 17,
   "metadata": {},
   "outputs": [
    {
     "name": "stdout",
     "output_type": "stream",
     "text": [
      "1048576\n",
      "3.1511192321777344 mean value, estimate of pi\n",
      "3.1511192321777344 mean value, estimate of pi\n",
      "3.1511192321777344 mean value, estimate of pi\n",
      "3.1511192321777344 mean value, estimate of pi\n",
      "3.1511192321777344 mean value, estimate of pi\n",
      "3.1511192321777344 mean value, estimate of pi\n",
      "3.1511192321777344 mean value, estimate of pi\n",
      "3.1511192321777344 mean value, estimate of pi\n",
      "3.1511192321777344 mean value, estimate of pi\n",
      "3.1511192321777344 mean value, estimate of pi\n",
      "3.1511192321777344 mean value, estimate of pi\n",
      "3.1511192321777344 mean value, estimate of pi\n",
      "3.1511192321777344 mean value, estimate of pi\n",
      "3.1511192321777344 mean value, estimate of pi\n",
      "3.1511192321777344 mean value, estimate of pi\n",
      "3.1511192321777344 mean value, estimate of pi\n",
      "3.1511192321777344 mean value, estimate of pi\n",
      "3.1511192321777344 mean value, estimate of pi\n",
      "3.1511192321777344 mean value, estimate of pi\n",
      "3.1511192321777344 mean value, estimate of pi\n"
     ]
    },
    {
     "data": {
      "image/png": "[encoded data removed]",
      "text/plain": [
       "<Figure size 432x288 with 1 Axes>"
      ]
     },
     "metadata": {
      "needs_background": "light"
     },
     "output_type": "display_data"
    }
   ],
   "source": [
    "import random, pylab, math\n",
    "\n",
    "def markov_pi_all_data(N, delta):\n",
    "    x, y = 1.0, 1.0\n",
    "    data = []\n",
    "    for i in range(N):\n",
    "        del_x, del_y = random.uniform(-delta, delta), random.uniform(-delta, delta)\n",
    "        if abs(x + del_x) < 1.0 and abs(y + del_y) < 1.0:\n",
    "            x, y = x + del_x, y + del_y\n",
    "        if x ** 2 + y ** 2 < 1.0:\n",
    "            data.append(4.0)\n",
    "        else:\n",
    "            data.append(0.0)\n",
    "    return data\n",
    "\n",
    "poweroftwo = 20\n",
    "n_trials = 2 ** poweroftwo\n",
    "delta = 0.1\n",
    "data = markov_pi_all_data(n_trials, delta)\n",
    "print(len(data))\n",
    "errors  = []\n",
    "bunches = []\n",
    "for i in range(poweroftwo):\n",
    "    new_data = []\n",
    "    mean = 0.0\n",
    "    mean_sq = 0.0\n",
    "    N = len(data)\n",
    "    while data != []:\n",
    "        x = data.pop()\n",
    "        y = data.pop()\n",
    "        mean += x + y\n",
    "        mean_sq += x ** 2 + y ** 2\n",
    "        new_data.append((x + y) / 2.0 )\n",
    "    \n",
    "    errors.append(math.sqrt(mean_sq / N - (mean / N) ** 2) / math.sqrt(N))\n",
    "    bunches.append(i)\n",
    "    \n",
    "    data = new_data[:]\n",
    "    \n",
    "    print( mean / float(N), 'mean value, estimate of pi')\n",
    "pylab.plot(bunches, errors, 'o')\n",
    "pylab.xlabel('iteration')\n",
    "pylab.ylabel('apparent error')\n",
    "pylab.title('Bunching: naive error vs iteration number')\n",
    "pylab.savefig('apparent_error_bunching.png')\n",
    "pylab.show()"
   ]
  },
  {
   "cell_type": "code",
   "execution_count": null,
   "metadata": {},
   "outputs": [],
   "source": []
  },
  {
   "cell_type": "code",
   "execution_count": null,
   "metadata": {},
   "outputs": [],
   "source": []
  }
 ],
 "metadata": {
  "kernelspec": {
   "display_name": "Python 3",
   "language": "python",
   "name": "python3"
  },
  "language_info": {
   "codemirror_mode": {
    "name": "ipython",
    "version": 3
   },
   "file_extension": ".py",
   "mimetype": "text/x-python",
   "name": "python",
   "nbconvert_exporter": "python",
   "pygments_lexer": "ipython3",
   "version": "3.7.5"
  }
 },
 "nbformat": 4,
 "nbformat_minor": 2
}
